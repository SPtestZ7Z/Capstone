{
  "metadata": {
    "kernelspec": {
      "name": "python",
      "display_name": "Python (Pyodide)",
      "language": "python"
    },
    "language_info": {
      "codemirror_mode": {
        "name": "python",
        "version": 3
      },
      "file_extension": ".py",
      "mimetype": "text/x-python",
      "name": "python",
      "nbconvert_exporter": "python",
      "pygments_lexer": "ipython3",
      "version": "3.8"
    },
    "prev_pub_hash": "a346f9a1ed73cbc6ac683dcfe38703902d239c53d46943d80353041cf8f794f8",
    "colab": {
      "provenance": [],
      "include_colab_link": true
    }
  },
  "nbformat_minor": 0,
  "nbformat": 4,
  "cells": [
    {
      "cell_type": "markdown",
      "metadata": {
        "id": "view-in-github",
        "colab_type": "text"
      },
      "source": [
        "<a href=\"https://colab.research.google.com/github/SPtestZ7Z/SpaceX-Capstone-project-for-IBM-Professional-Certificate-in-Data-Science/blob/main/Module_4_Machine_Learning_Prediction_(Colab_version).ipynb\" target=\"_parent\"><img src=\"https://colab.research.google.com/assets/colab-badge.svg\" alt=\"Open In Colab\"/></a>"
      ]
    },
    {
      "cell_type": "markdown",
      "source": [
        "<p style=\"text-align:center\">\n",
        "    <a href=\"https://skills.network/?utm_medium=Exinfluencer&utm_source=Exinfluencer&utm_content=000026UJ&utm_term=10006555&utm_id=NA-SkillsNetwork-Channel-SkillsNetworkCoursesIBMDS0321ENSkillsNetwork26802033-2022-01-01\" target=\"_blank\">\n",
        "    <img src=\"https://cf-courses-data.s3.us.cloud-object-storage.appdomain.cloud/assets/logos/SN_web_lightmode.png\" width=\"200\" alt=\"Skills Network Logo\">\n",
        "    </a>\n",
        "</p>\n"
      ],
      "metadata": {
        "id": "S3RLf25TPcwl"
      }
    },
    {
      "cell_type": "markdown",
      "source": [
        "# **Space X  Falcon 9 First Stage Landing Prediction**\n"
      ],
      "metadata": {
        "id": "mb8RcLFTPcwn"
      }
    },
    {
      "cell_type": "markdown",
      "source": [
        "## Hands on Lab: Complete the Machine Learning Prediction lab\n"
      ],
      "metadata": {
        "id": "Cp2M7Vq-Pcwo"
      }
    },
    {
      "cell_type": "markdown",
      "source": [
        "Estimated time needed: **60** minutes\n"
      ],
      "metadata": {
        "id": "HIjPbLQoPcwp"
      }
    },
    {
      "cell_type": "markdown",
      "source": [
        "Space X advertises Falcon 9 rocket launches on its website with a cost of 62 million dollars; other providers cost upward of 165 million dollars each, much of the savings is because Space X can reuse the first stage. Therefore if we can determine if the first stage will land, we can determine the cost of a launch. This information can be used if an alternate company wants to bid against space X for a rocket launch.   In this lab, you will create a machine learning pipeline  to predict if the first stage will land given the data from the preceding labs.\n"
      ],
      "metadata": {
        "id": "AEa0Mf8mPcwp"
      }
    },
    {
      "cell_type": "markdown",
      "source": [
        "![](https://cf-courses-data.s3.us.cloud-object-storage.appdomain.cloud/IBMDeveloperSkillsNetwork-DS0701EN-SkillsNetwork/api/Images/landing_1.gif)\n"
      ],
      "metadata": {
        "id": "CzhUzBprPcwp"
      }
    },
    {
      "cell_type": "markdown",
      "source": [
        "Several examples of an unsuccessful landing are shown here:\n"
      ],
      "metadata": {
        "id": "lhmdzm8jPcwq"
      }
    },
    {
      "cell_type": "markdown",
      "source": [
        "![](https://cf-courses-data.s3.us.cloud-object-storage.appdomain.cloud/IBMDeveloperSkillsNetwork-DS0701EN-SkillsNetwork/api/Images/crash.gif)\n"
      ],
      "metadata": {
        "id": "IaoPSEuKPcwq"
      }
    },
    {
      "cell_type": "markdown",
      "source": [
        "Most unsuccessful landings are planed. Space X; performs a controlled landing in the oceans.\n"
      ],
      "metadata": {
        "id": "zTiTHNjTPcwr"
      }
    },
    {
      "cell_type": "markdown",
      "source": [
        "## Objectives\n"
      ],
      "metadata": {
        "id": "xgFxT94hPcwr"
      }
    },
    {
      "cell_type": "markdown",
      "source": [
        "Perform exploratory  Data Analysis and determine Training Labels\n",
        "\n",
        "*   create a column for the class\n",
        "*   Standardize the data\n",
        "*   Split into training data and test data\n",
        "\n",
        "\\-Find best Hyperparameter for SVM, Classification Trees and Logistic Regression\n",
        "\n",
        "*   Find the method performs best using test data\n"
      ],
      "metadata": {
        "id": "ayufwRCwPcwr"
      }
    },
    {
      "cell_type": "markdown",
      "source": [
        "## Import Libraries and Define Auxiliary Functions\n"
      ],
      "metadata": {
        "id": "UF3vv0WLPcws"
      }
    },
    {
      "cell_type": "code",
      "source": [
        "!pip install numpy pandas seaborn\n",
        "\n",
        "#import piplite\n",
        "#await piplite.install(['numpy'])\n",
        "#await piplite.install(['pandas'])\n",
        "#await piplite.install(['seaborn'])"
      ],
      "metadata": {
        "trusted": true,
        "colab": {
          "base_uri": "https://localhost:8080/"
        },
        "id": "wlqijOWlPcws",
        "outputId": "74c1c8f6-af0b-43ab-ae34-b271bcf107ef"
      },
      "outputs": [
        {
          "output_type": "stream",
          "name": "stdout",
          "text": [
            "Requirement already satisfied: numpy in /usr/local/lib/python3.11/dist-packages (1.26.4)\n",
            "Requirement already satisfied: pandas in /usr/local/lib/python3.11/dist-packages (2.2.2)\n",
            "Requirement already satisfied: seaborn in /usr/local/lib/python3.11/dist-packages (0.13.2)\n",
            "Requirement already satisfied: python-dateutil>=2.8.2 in /usr/local/lib/python3.11/dist-packages (from pandas) (2.8.2)\n",
            "Requirement already satisfied: pytz>=2020.1 in /usr/local/lib/python3.11/dist-packages (from pandas) (2024.2)\n",
            "Requirement already satisfied: tzdata>=2022.7 in /usr/local/lib/python3.11/dist-packages (from pandas) (2024.2)\n",
            "Requirement already satisfied: matplotlib!=3.6.1,>=3.4 in /usr/local/lib/python3.11/dist-packages (from seaborn) (3.10.0)\n",
            "Requirement already satisfied: contourpy>=1.0.1 in /usr/local/lib/python3.11/dist-packages (from matplotlib!=3.6.1,>=3.4->seaborn) (1.3.1)\n",
            "Requirement already satisfied: cycler>=0.10 in /usr/local/lib/python3.11/dist-packages (from matplotlib!=3.6.1,>=3.4->seaborn) (0.12.1)\n",
            "Requirement already satisfied: fonttools>=4.22.0 in /usr/local/lib/python3.11/dist-packages (from matplotlib!=3.6.1,>=3.4->seaborn) (4.55.3)\n",
            "Requirement already satisfied: kiwisolver>=1.3.1 in /usr/local/lib/python3.11/dist-packages (from matplotlib!=3.6.1,>=3.4->seaborn) (1.4.8)\n",
            "Requirement already satisfied: packaging>=20.0 in /usr/local/lib/python3.11/dist-packages (from matplotlib!=3.6.1,>=3.4->seaborn) (24.2)\n",
            "Requirement already satisfied: pillow>=8 in /usr/local/lib/python3.11/dist-packages (from matplotlib!=3.6.1,>=3.4->seaborn) (11.1.0)\n",
            "Requirement already satisfied: pyparsing>=2.3.1 in /usr/local/lib/python3.11/dist-packages (from matplotlib!=3.6.1,>=3.4->seaborn) (3.2.1)\n",
            "Requirement already satisfied: six>=1.5 in /usr/local/lib/python3.11/dist-packages (from python-dateutil>=2.8.2->pandas) (1.17.0)\n"
          ]
        }
      ],
      "execution_count": null
    },
    {
      "cell_type": "markdown",
      "source": [
        "We will import the following libraries for the lab\n"
      ],
      "metadata": {
        "id": "_jlORw3KPcws"
      }
    },
    {
      "cell_type": "code",
      "source": [
        "# Pandas is a software library written for the Python programming language for data manipulation and analysis.\n",
        "import pandas as pd\n",
        "# NumPy is a library for the Python programming language, adding support for large, multi-dimensional arrays and matrices, along with a large collection of high-level mathematical functions to operate on these arrays\n",
        "import numpy as np\n",
        "# Matplotlib is a plotting library for python and pyplot gives us a MatLab like plotting framework. We will use this in our plotter function to plot data.\n",
        "import matplotlib.pyplot as plt\n",
        "#Seaborn is a Python data visualization library based on matplotlib. It provides a high-level interface for drawing attractive and informative statistical graphics\n",
        "import seaborn as sns\n",
        "# Preprocessing allows us to standarsize our data\n",
        "from sklearn import preprocessing\n",
        "# Allows us to split our data into training and testing data\n",
        "from sklearn.model_selection import train_test_split\n",
        "# Allows us to test parameters of classification algorithms and find the best one\n",
        "from sklearn.model_selection import GridSearchCV\n",
        "# Logistic Regression classification algorithm\n",
        "from sklearn.linear_model import LogisticRegression\n",
        "# Support Vector Machine classification algorithm\n",
        "from sklearn.svm import SVC\n",
        "# Decision Tree classification algorithm\n",
        "from sklearn.tree import DecisionTreeClassifier\n",
        "# K Nearest Neighbors classification algorithm\n",
        "from sklearn.neighbors import KNeighborsClassifier"
      ],
      "metadata": {
        "trusted": true,
        "id": "ve4XIpAbPcwt"
      },
      "outputs": [],
      "execution_count": null
    },
    {
      "cell_type": "markdown",
      "source": [
        "This function is to plot the confusion matrix.\n"
      ],
      "metadata": {
        "id": "r5ktCjgePcwt"
      }
    },
    {
      "cell_type": "code",
      "source": [
        "def plot_confusion_matrix(y,y_predict):\n",
        "    \"this function plots the confusion matrix\"\n",
        "    from sklearn.metrics import confusion_matrix\n",
        "\n",
        "    cm = confusion_matrix(y, y_predict)\n",
        "    ax= plt.subplot()\n",
        "    sns.heatmap(cm, annot=True, ax = ax); #annot=True to annotate cells\n",
        "    ax.set_xlabel('Predicted labels')\n",
        "    ax.set_ylabel('True labels')\n",
        "    ax.set_title('Confusion Matrix');\n",
        "    ax.xaxis.set_ticklabels(['did not land', 'land']); ax.yaxis.set_ticklabels(['did not land', 'landed'])\n",
        "    plt.show()"
      ],
      "metadata": {
        "trusted": true,
        "id": "HqTUlQH_Pcwt"
      },
      "outputs": [],
      "execution_count": null
    },
    {
      "cell_type": "markdown",
      "source": [
        "## Load the dataframe\n"
      ],
      "metadata": {
        "id": "TmxqPEJgPcwt"
      }
    },
    {
      "cell_type": "markdown",
      "source": [
        "Load the data\n"
      ],
      "metadata": {
        "id": "jO8rD4FIPcwt"
      }
    },
    {
      "cell_type": "code",
      "source": [
        "import requests\n",
        "import io\n",
        "import pandas as pd\n",
        "\n",
        "URL1 = \"https://cf-courses-data.s3.us.cloud-object-storage.appdomain.cloud/IBM-DS0321EN-SkillsNetwork/datasets/dataset_part_2.csv\"\n",
        "\n",
        "# Use requests library to fetch the data\n",
        "response = requests.get(URL1)\n",
        "\n",
        "# Check for successful response\n",
        "if response.status_code == 200:\n",
        "  # Read the content as bytes\n",
        "  data = response.content\n",
        "\n",
        "  # Use io.BytesIO to create a file-like object\n",
        "  text1 = io.BytesIO(data)\n",
        "\n",
        "  # Read the CSV data from the file-like object using pandas\n",
        "  df = pd.read_csv(text1)\n",
        "\n",
        "  # Now you can use the dataframe 'df'\n",
        "  print(df.head())  # Print the first few rows of the dataframe\n",
        "else:\n",
        "  print(f\"Error: Failed to download data. Status code: {response.status_code}\")"
      ],
      "metadata": {
        "trusted": true,
        "colab": {
          "base_uri": "https://localhost:8080/"
        },
        "id": "udgLnw2DPcwt",
        "outputId": "e4828e79-e9ac-4890-ea7b-5d51512af00d"
      },
      "outputs": [
        {
          "output_type": "stream",
          "name": "stdout",
          "text": [
            "   FlightNumber        Date BoosterVersion  PayloadMass Orbit    LaunchSite  \\\n",
            "0             1  2010-06-04       Falcon 9  6104.959412   LEO  CCAFS SLC 40   \n",
            "1             2  2012-05-22       Falcon 9   525.000000   LEO  CCAFS SLC 40   \n",
            "2             3  2013-03-01       Falcon 9   677.000000   ISS  CCAFS SLC 40   \n",
            "3             4  2013-09-29       Falcon 9   500.000000    PO   VAFB SLC 4E   \n",
            "4             5  2013-12-03       Falcon 9  3170.000000   GTO  CCAFS SLC 40   \n",
            "\n",
            "       Outcome  Flights  GridFins  Reused   Legs LandingPad  Block  \\\n",
            "0    None None        1     False   False  False        NaN    1.0   \n",
            "1    None None        1     False   False  False        NaN    1.0   \n",
            "2    None None        1     False   False  False        NaN    1.0   \n",
            "3  False Ocean        1     False   False  False        NaN    1.0   \n",
            "4    None None        1     False   False  False        NaN    1.0   \n",
            "\n",
            "   ReusedCount Serial   Longitude   Latitude  Class  \n",
            "0            0  B0003  -80.577366  28.561857      0  \n",
            "1            0  B0005  -80.577366  28.561857      0  \n",
            "2            0  B0007  -80.577366  28.561857      0  \n",
            "3            0  B1003 -120.610829  34.632093      0  \n",
            "4            0  B1004  -80.577366  28.561857      0  \n"
          ]
        }
      ],
      "execution_count": null
    },
    {
      "cell_type": "code",
      "source": [
        "df.head()"
      ],
      "metadata": {
        "trusted": true,
        "colab": {
          "base_uri": "https://localhost:8080/",
          "height": 206
        },
        "id": "7esUab7OPcwt",
        "outputId": "391d17fc-37aa-4a8d-9059-531ee7b3a911"
      },
      "outputs": [
        {
          "output_type": "execute_result",
          "data": {
            "text/plain": [
              "   FlightNumber        Date BoosterVersion  PayloadMass Orbit    LaunchSite  \\\n",
              "0             1  2010-06-04       Falcon 9  6104.959412   LEO  CCAFS SLC 40   \n",
              "1             2  2012-05-22       Falcon 9   525.000000   LEO  CCAFS SLC 40   \n",
              "2             3  2013-03-01       Falcon 9   677.000000   ISS  CCAFS SLC 40   \n",
              "3             4  2013-09-29       Falcon 9   500.000000    PO   VAFB SLC 4E   \n",
              "4             5  2013-12-03       Falcon 9  3170.000000   GTO  CCAFS SLC 40   \n",
              "\n",
              "       Outcome  Flights  GridFins  Reused   Legs LandingPad  Block  \\\n",
              "0    None None        1     False   False  False        NaN    1.0   \n",
              "1    None None        1     False   False  False        NaN    1.0   \n",
              "2    None None        1     False   False  False        NaN    1.0   \n",
              "3  False Ocean        1     False   False  False        NaN    1.0   \n",
              "4    None None        1     False   False  False        NaN    1.0   \n",
              "\n",
              "   ReusedCount Serial   Longitude   Latitude  Class  \n",
              "0            0  B0003  -80.577366  28.561857      0  \n",
              "1            0  B0005  -80.577366  28.561857      0  \n",
              "2            0  B0007  -80.577366  28.561857      0  \n",
              "3            0  B1003 -120.610829  34.632093      0  \n",
              "4            0  B1004  -80.577366  28.561857      0  "
            ],
            "text/html": [
              "\n",
              "  <div id=\"df-510587ae-195b-4d70-8d82-fb3780e18bd0\" class=\"colab-df-container\">\n",
              "    <div>\n",
              "<style scoped>\n",
              "    .dataframe tbody tr th:only-of-type {\n",
              "        vertical-align: middle;\n",
              "    }\n",
              "\n",
              "    .dataframe tbody tr th {\n",
              "        vertical-align: top;\n",
              "    }\n",
              "\n",
              "    .dataframe thead th {\n",
              "        text-align: right;\n",
              "    }\n",
              "</style>\n",
              "<table border=\"1\" class=\"dataframe\">\n",
              "  <thead>\n",
              "    <tr style=\"text-align: right;\">\n",
              "      <th></th>\n",
              "      <th>FlightNumber</th>\n",
              "      <th>Date</th>\n",
              "      <th>BoosterVersion</th>\n",
              "      <th>PayloadMass</th>\n",
              "      <th>Orbit</th>\n",
              "      <th>LaunchSite</th>\n",
              "      <th>Outcome</th>\n",
              "      <th>Flights</th>\n",
              "      <th>GridFins</th>\n",
              "      <th>Reused</th>\n",
              "      <th>Legs</th>\n",
              "      <th>LandingPad</th>\n",
              "      <th>Block</th>\n",
              "      <th>ReusedCount</th>\n",
              "      <th>Serial</th>\n",
              "      <th>Longitude</th>\n",
              "      <th>Latitude</th>\n",
              "      <th>Class</th>\n",
              "    </tr>\n",
              "  </thead>\n",
              "  <tbody>\n",
              "    <tr>\n",
              "      <th>0</th>\n",
              "      <td>1</td>\n",
              "      <td>2010-06-04</td>\n",
              "      <td>Falcon 9</td>\n",
              "      <td>6104.959412</td>\n",
              "      <td>LEO</td>\n",
              "      <td>CCAFS SLC 40</td>\n",
              "      <td>None None</td>\n",
              "      <td>1</td>\n",
              "      <td>False</td>\n",
              "      <td>False</td>\n",
              "      <td>False</td>\n",
              "      <td>NaN</td>\n",
              "      <td>1.0</td>\n",
              "      <td>0</td>\n",
              "      <td>B0003</td>\n",
              "      <td>-80.577366</td>\n",
              "      <td>28.561857</td>\n",
              "      <td>0</td>\n",
              "    </tr>\n",
              "    <tr>\n",
              "      <th>1</th>\n",
              "      <td>2</td>\n",
              "      <td>2012-05-22</td>\n",
              "      <td>Falcon 9</td>\n",
              "      <td>525.000000</td>\n",
              "      <td>LEO</td>\n",
              "      <td>CCAFS SLC 40</td>\n",
              "      <td>None None</td>\n",
              "      <td>1</td>\n",
              "      <td>False</td>\n",
              "      <td>False</td>\n",
              "      <td>False</td>\n",
              "      <td>NaN</td>\n",
              "      <td>1.0</td>\n",
              "      <td>0</td>\n",
              "      <td>B0005</td>\n",
              "      <td>-80.577366</td>\n",
              "      <td>28.561857</td>\n",
              "      <td>0</td>\n",
              "    </tr>\n",
              "    <tr>\n",
              "      <th>2</th>\n",
              "      <td>3</td>\n",
              "      <td>2013-03-01</td>\n",
              "      <td>Falcon 9</td>\n",
              "      <td>677.000000</td>\n",
              "      <td>ISS</td>\n",
              "      <td>CCAFS SLC 40</td>\n",
              "      <td>None None</td>\n",
              "      <td>1</td>\n",
              "      <td>False</td>\n",
              "      <td>False</td>\n",
              "      <td>False</td>\n",
              "      <td>NaN</td>\n",
              "      <td>1.0</td>\n",
              "      <td>0</td>\n",
              "      <td>B0007</td>\n",
              "      <td>-80.577366</td>\n",
              "      <td>28.561857</td>\n",
              "      <td>0</td>\n",
              "    </tr>\n",
              "    <tr>\n",
              "      <th>3</th>\n",
              "      <td>4</td>\n",
              "      <td>2013-09-29</td>\n",
              "      <td>Falcon 9</td>\n",
              "      <td>500.000000</td>\n",
              "      <td>PO</td>\n",
              "      <td>VAFB SLC 4E</td>\n",
              "      <td>False Ocean</td>\n",
              "      <td>1</td>\n",
              "      <td>False</td>\n",
              "      <td>False</td>\n",
              "      <td>False</td>\n",
              "      <td>NaN</td>\n",
              "      <td>1.0</td>\n",
              "      <td>0</td>\n",
              "      <td>B1003</td>\n",
              "      <td>-120.610829</td>\n",
              "      <td>34.632093</td>\n",
              "      <td>0</td>\n",
              "    </tr>\n",
              "    <tr>\n",
              "      <th>4</th>\n",
              "      <td>5</td>\n",
              "      <td>2013-12-03</td>\n",
              "      <td>Falcon 9</td>\n",
              "      <td>3170.000000</td>\n",
              "      <td>GTO</td>\n",
              "      <td>CCAFS SLC 40</td>\n",
              "      <td>None None</td>\n",
              "      <td>1</td>\n",
              "      <td>False</td>\n",
              "      <td>False</td>\n",
              "      <td>False</td>\n",
              "      <td>NaN</td>\n",
              "      <td>1.0</td>\n",
              "      <td>0</td>\n",
              "      <td>B1004</td>\n",
              "      <td>-80.577366</td>\n",
              "      <td>28.561857</td>\n",
              "      <td>0</td>\n",
              "    </tr>\n",
              "  </tbody>\n",
              "</table>\n",
              "</div>\n",
              "    <div class=\"colab-df-buttons\">\n",
              "\n",
              "  <div class=\"colab-df-container\">\n",
              "    <button class=\"colab-df-convert\" onclick=\"convertToInteractive('df-510587ae-195b-4d70-8d82-fb3780e18bd0')\"\n",
              "            title=\"Convert this dataframe to an interactive table.\"\n",
              "            style=\"display:none;\">\n",
              "\n",
              "  <svg xmlns=\"http://www.w3.org/2000/svg\" height=\"24px\" viewBox=\"0 -960 960 960\">\n",
              "    <path d=\"M120-120v-720h720v720H120Zm60-500h600v-160H180v160Zm220 220h160v-160H400v160Zm0 220h160v-160H400v160ZM180-400h160v-160H180v160Zm440 0h160v-160H620v160ZM180-180h160v-160H180v160Zm440 0h160v-160H620v160Z\"/>\n",
              "  </svg>\n",
              "    </button>\n",
              "\n",
              "  <style>\n",
              "    .colab-df-container {\n",
              "      display:flex;\n",
              "      gap: 12px;\n",
              "    }\n",
              "\n",
              "    .colab-df-convert {\n",
              "      background-color: #E8F0FE;\n",
              "      border: none;\n",
              "      border-radius: 50%;\n",
              "      cursor: pointer;\n",
              "      display: none;\n",
              "      fill: #1967D2;\n",
              "      height: 32px;\n",
              "      padding: 0 0 0 0;\n",
              "      width: 32px;\n",
              "    }\n",
              "\n",
              "    .colab-df-convert:hover {\n",
              "      background-color: #E2EBFA;\n",
              "      box-shadow: 0px 1px 2px rgba(60, 64, 67, 0.3), 0px 1px 3px 1px rgba(60, 64, 67, 0.15);\n",
              "      fill: #174EA6;\n",
              "    }\n",
              "\n",
              "    .colab-df-buttons div {\n",
              "      margin-bottom: 4px;\n",
              "    }\n",
              "\n",
              "    [theme=dark] .colab-df-convert {\n",
              "      background-color: #3B4455;\n",
              "      fill: #D2E3FC;\n",
              "    }\n",
              "\n",
              "    [theme=dark] .colab-df-convert:hover {\n",
              "      background-color: #434B5C;\n",
              "      box-shadow: 0px 1px 3px 1px rgba(0, 0, 0, 0.15);\n",
              "      filter: drop-shadow(0px 1px 2px rgba(0, 0, 0, 0.3));\n",
              "      fill: #FFFFFF;\n",
              "    }\n",
              "  </style>\n",
              "\n",
              "    <script>\n",
              "      const buttonEl =\n",
              "        document.querySelector('#df-510587ae-195b-4d70-8d82-fb3780e18bd0 button.colab-df-convert');\n",
              "      buttonEl.style.display =\n",
              "        google.colab.kernel.accessAllowed ? 'block' : 'none';\n",
              "\n",
              "      async function convertToInteractive(key) {\n",
              "        const element = document.querySelector('#df-510587ae-195b-4d70-8d82-fb3780e18bd0');\n",
              "        const dataTable =\n",
              "          await google.colab.kernel.invokeFunction('convertToInteractive',\n",
              "                                                    [key], {});\n",
              "        if (!dataTable) return;\n",
              "\n",
              "        const docLinkHtml = 'Like what you see? Visit the ' +\n",
              "          '<a target=\"_blank\" href=https://colab.research.google.com/notebooks/data_table.ipynb>data table notebook</a>'\n",
              "          + ' to learn more about interactive tables.';\n",
              "        element.innerHTML = '';\n",
              "        dataTable['output_type'] = 'display_data';\n",
              "        await google.colab.output.renderOutput(dataTable, element);\n",
              "        const docLink = document.createElement('div');\n",
              "        docLink.innerHTML = docLinkHtml;\n",
              "        element.appendChild(docLink);\n",
              "      }\n",
              "    </script>\n",
              "  </div>\n",
              "\n",
              "\n",
              "<div id=\"df-8d3ac296-2d43-4647-8798-77bb19720ce6\">\n",
              "  <button class=\"colab-df-quickchart\" onclick=\"quickchart('df-8d3ac296-2d43-4647-8798-77bb19720ce6')\"\n",
              "            title=\"Suggest charts\"\n",
              "            style=\"display:none;\">\n",
              "\n",
              "<svg xmlns=\"http://www.w3.org/2000/svg\" height=\"24px\"viewBox=\"0 0 24 24\"\n",
              "     width=\"24px\">\n",
              "    <g>\n",
              "        <path d=\"M19 3H5c-1.1 0-2 .9-2 2v14c0 1.1.9 2 2 2h14c1.1 0 2-.9 2-2V5c0-1.1-.9-2-2-2zM9 17H7v-7h2v7zm4 0h-2V7h2v10zm4 0h-2v-4h2v4z\"/>\n",
              "    </g>\n",
              "</svg>\n",
              "  </button>\n",
              "\n",
              "<style>\n",
              "  .colab-df-quickchart {\n",
              "      --bg-color: #E8F0FE;\n",
              "      --fill-color: #1967D2;\n",
              "      --hover-bg-color: #E2EBFA;\n",
              "      --hover-fill-color: #174EA6;\n",
              "      --disabled-fill-color: #AAA;\n",
              "      --disabled-bg-color: #DDD;\n",
              "  }\n",
              "\n",
              "  [theme=dark] .colab-df-quickchart {\n",
              "      --bg-color: #3B4455;\n",
              "      --fill-color: #D2E3FC;\n",
              "      --hover-bg-color: #434B5C;\n",
              "      --hover-fill-color: #FFFFFF;\n",
              "      --disabled-bg-color: #3B4455;\n",
              "      --disabled-fill-color: #666;\n",
              "  }\n",
              "\n",
              "  .colab-df-quickchart {\n",
              "    background-color: var(--bg-color);\n",
              "    border: none;\n",
              "    border-radius: 50%;\n",
              "    cursor: pointer;\n",
              "    display: none;\n",
              "    fill: var(--fill-color);\n",
              "    height: 32px;\n",
              "    padding: 0;\n",
              "    width: 32px;\n",
              "  }\n",
              "\n",
              "  .colab-df-quickchart:hover {\n",
              "    background-color: var(--hover-bg-color);\n",
              "    box-shadow: 0 1px 2px rgba(60, 64, 67, 0.3), 0 1px 3px 1px rgba(60, 64, 67, 0.15);\n",
              "    fill: var(--button-hover-fill-color);\n",
              "  }\n",
              "\n",
              "  .colab-df-quickchart-complete:disabled,\n",
              "  .colab-df-quickchart-complete:disabled:hover {\n",
              "    background-color: var(--disabled-bg-color);\n",
              "    fill: var(--disabled-fill-color);\n",
              "    box-shadow: none;\n",
              "  }\n",
              "\n",
              "  .colab-df-spinner {\n",
              "    border: 2px solid var(--fill-color);\n",
              "    border-color: transparent;\n",
              "    border-bottom-color: var(--fill-color);\n",
              "    animation:\n",
              "      spin 1s steps(1) infinite;\n",
              "  }\n",
              "\n",
              "  @keyframes spin {\n",
              "    0% {\n",
              "      border-color: transparent;\n",
              "      border-bottom-color: var(--fill-color);\n",
              "      border-left-color: var(--fill-color);\n",
              "    }\n",
              "    20% {\n",
              "      border-color: transparent;\n",
              "      border-left-color: var(--fill-color);\n",
              "      border-top-color: var(--fill-color);\n",
              "    }\n",
              "    30% {\n",
              "      border-color: transparent;\n",
              "      border-left-color: var(--fill-color);\n",
              "      border-top-color: var(--fill-color);\n",
              "      border-right-color: var(--fill-color);\n",
              "    }\n",
              "    40% {\n",
              "      border-color: transparent;\n",
              "      border-right-color: var(--fill-color);\n",
              "      border-top-color: var(--fill-color);\n",
              "    }\n",
              "    60% {\n",
              "      border-color: transparent;\n",
              "      border-right-color: var(--fill-color);\n",
              "    }\n",
              "    80% {\n",
              "      border-color: transparent;\n",
              "      border-right-color: var(--fill-color);\n",
              "      border-bottom-color: var(--fill-color);\n",
              "    }\n",
              "    90% {\n",
              "      border-color: transparent;\n",
              "      border-bottom-color: var(--fill-color);\n",
              "    }\n",
              "  }\n",
              "</style>\n",
              "\n",
              "  <script>\n",
              "    async function quickchart(key) {\n",
              "      const quickchartButtonEl =\n",
              "        document.querySelector('#' + key + ' button');\n",
              "      quickchartButtonEl.disabled = true;  // To prevent multiple clicks.\n",
              "      quickchartButtonEl.classList.add('colab-df-spinner');\n",
              "      try {\n",
              "        const charts = await google.colab.kernel.invokeFunction(\n",
              "            'suggestCharts', [key], {});\n",
              "      } catch (error) {\n",
              "        console.error('Error during call to suggestCharts:', error);\n",
              "      }\n",
              "      quickchartButtonEl.classList.remove('colab-df-spinner');\n",
              "      quickchartButtonEl.classList.add('colab-df-quickchart-complete');\n",
              "    }\n",
              "    (() => {\n",
              "      let quickchartButtonEl =\n",
              "        document.querySelector('#df-8d3ac296-2d43-4647-8798-77bb19720ce6 button');\n",
              "      quickchartButtonEl.style.display =\n",
              "        google.colab.kernel.accessAllowed ? 'block' : 'none';\n",
              "    })();\n",
              "  </script>\n",
              "</div>\n",
              "\n",
              "    </div>\n",
              "  </div>\n"
            ],
            "application/vnd.google.colaboratory.intrinsic+json": {
              "type": "dataframe",
              "variable_name": "df",
              "summary": "{\n  \"name\": \"df\",\n  \"rows\": 90,\n  \"fields\": [\n    {\n      \"column\": \"FlightNumber\",\n      \"properties\": {\n        \"dtype\": \"number\",\n        \"std\": 26,\n        \"min\": 1,\n        \"max\": 90,\n        \"num_unique_values\": 90,\n        \"samples\": [\n          41,\n          23,\n          56\n        ],\n        \"semantic_type\": \"\",\n        \"description\": \"\"\n      }\n    },\n    {\n      \"column\": \"Date\",\n      \"properties\": {\n        \"dtype\": \"object\",\n        \"num_unique_values\": 90,\n        \"samples\": [\n          \"2017-10-30\",\n          \"2016-07-18\",\n          \"2018-09-10\"\n        ],\n        \"semantic_type\": \"\",\n        \"description\": \"\"\n      }\n    },\n    {\n      \"column\": \"BoosterVersion\",\n      \"properties\": {\n        \"dtype\": \"category\",\n        \"num_unique_values\": 1,\n        \"samples\": [\n          \"Falcon 9\"\n        ],\n        \"semantic_type\": \"\",\n        \"description\": \"\"\n      }\n    },\n    {\n      \"column\": \"PayloadMass\",\n      \"properties\": {\n        \"dtype\": \"number\",\n        \"std\": 4694.671719712728,\n        \"min\": 350.0,\n        \"max\": 15600.0,\n        \"num_unique_values\": 69,\n        \"samples\": [\n          2257.0\n        ],\n        \"semantic_type\": \"\",\n        \"description\": \"\"\n      }\n    },\n    {\n      \"column\": \"Orbit\",\n      \"properties\": {\n        \"dtype\": \"category\",\n        \"num_unique_values\": 11,\n        \"samples\": [\n          \"SSO\"\n        ],\n        \"semantic_type\": \"\",\n        \"description\": \"\"\n      }\n    },\n    {\n      \"column\": \"LaunchSite\",\n      \"properties\": {\n        \"dtype\": \"category\",\n        \"num_unique_values\": 3,\n        \"samples\": [\n          \"CCAFS SLC 40\"\n        ],\n        \"semantic_type\": \"\",\n        \"description\": \"\"\n      }\n    },\n    {\n      \"column\": \"Outcome\",\n      \"properties\": {\n        \"dtype\": \"category\",\n        \"num_unique_values\": 8,\n        \"samples\": [\n          \"False Ocean\"\n        ],\n        \"semantic_type\": \"\",\n        \"description\": \"\"\n      }\n    },\n    {\n      \"column\": \"Flights\",\n      \"properties\": {\n        \"dtype\": \"number\",\n        \"std\": 1,\n        \"min\": 1,\n        \"max\": 6,\n        \"num_unique_values\": 6,\n        \"samples\": [\n          1\n        ],\n        \"semantic_type\": \"\",\n        \"description\": \"\"\n      }\n    },\n    {\n      \"column\": \"GridFins\",\n      \"properties\": {\n        \"dtype\": \"boolean\",\n        \"num_unique_values\": 2,\n        \"samples\": [\n          true\n        ],\n        \"semantic_type\": \"\",\n        \"description\": \"\"\n      }\n    },\n    {\n      \"column\": \"Reused\",\n      \"properties\": {\n        \"dtype\": \"boolean\",\n        \"num_unique_values\": 2,\n        \"samples\": [\n          true\n        ],\n        \"semantic_type\": \"\",\n        \"description\": \"\"\n      }\n    },\n    {\n      \"column\": \"Legs\",\n      \"properties\": {\n        \"dtype\": \"boolean\",\n        \"num_unique_values\": 2,\n        \"samples\": [\n          true\n        ],\n        \"semantic_type\": \"\",\n        \"description\": \"\"\n      }\n    },\n    {\n      \"column\": \"LandingPad\",\n      \"properties\": {\n        \"dtype\": \"category\",\n        \"num_unique_values\": 5,\n        \"samples\": [\n          \"5e9e3032383ecb6bb234e7ca\"\n        ],\n        \"semantic_type\": \"\",\n        \"description\": \"\"\n      }\n    },\n    {\n      \"column\": \"Block\",\n      \"properties\": {\n        \"dtype\": \"number\",\n        \"std\": 1.5952880054161753,\n        \"min\": 1.0,\n        \"max\": 5.0,\n        \"num_unique_values\": 5,\n        \"samples\": [\n          2.0\n        ],\n        \"semantic_type\": \"\",\n        \"description\": \"\"\n      }\n    },\n    {\n      \"column\": \"ReusedCount\",\n      \"properties\": {\n        \"dtype\": \"number\",\n        \"std\": 1,\n        \"min\": 0,\n        \"max\": 5,\n        \"num_unique_values\": 6,\n        \"samples\": [\n          0\n        ],\n        \"semantic_type\": \"\",\n        \"description\": \"\"\n      }\n    },\n    {\n      \"column\": \"Serial\",\n      \"properties\": {\n        \"dtype\": \"string\",\n        \"num_unique_values\": 53,\n        \"samples\": [\n          \"B1021\"\n        ],\n        \"semantic_type\": \"\",\n        \"description\": \"\"\n      }\n    },\n    {\n      \"column\": \"Longitude\",\n      \"properties\": {\n        \"dtype\": \"number\",\n        \"std\": 14.14951820469966,\n        \"min\": -120.610829,\n        \"max\": -80.577366,\n        \"num_unique_values\": 3,\n        \"samples\": [\n          -80.577366\n        ],\n        \"semantic_type\": \"\",\n        \"description\": \"\"\n      }\n    },\n    {\n      \"column\": \"Latitude\",\n      \"properties\": {\n        \"dtype\": \"number\",\n        \"std\": 2.1413060763566953,\n        \"min\": 28.5618571,\n        \"max\": 34.632093,\n        \"num_unique_values\": 3,\n        \"samples\": [\n          28.5618571\n        ],\n        \"semantic_type\": \"\",\n        \"description\": \"\"\n      }\n    },\n    {\n      \"column\": \"Class\",\n      \"properties\": {\n        \"dtype\": \"number\",\n        \"std\": 0,\n        \"min\": 0,\n        \"max\": 1,\n        \"num_unique_values\": 2,\n        \"samples\": [\n          1\n        ],\n        \"semantic_type\": \"\",\n        \"description\": \"\"\n      }\n    }\n  ]\n}"
            }
          },
          "metadata": {},
          "execution_count": 52
        }
      ],
      "execution_count": null
    },
    {
      "cell_type": "code",
      "source": [
        "#This does not run in Colab. Use function below\n",
        "\"\"\"URL2 = 'https://cf-courses-data.s3.us.cloud-object-storage.appdomain.cloud/IBM-DS0321EN-SkillsNetwork/datasets/dataset_part_3.csv'\n",
        "resp2 = await fetch(URL2)\n",
        "text2 = io.BytesIO((await resp2.arrayBuffer()).to_py())\n",
        "X = pd.read_csv(text2)\"\"\""
      ],
      "metadata": {
        "trusted": true,
        "colab": {
          "base_uri": "https://localhost:8080/",
          "height": 36
        },
        "id": "FTpHOD_oPcwu",
        "outputId": "e68c22d0-5680-4d32-b0a4-05868d4ec1c9"
      },
      "outputs": [
        {
          "output_type": "execute_result",
          "data": {
            "text/plain": [
              "\"URL2 = 'https://cf-courses-data.s3.us.cloud-object-storage.appdomain.cloud/IBM-DS0321EN-SkillsNetwork/datasets/dataset_part_3.csv'\\nresp2 = await fetch(URL2)\\ntext2 = io.BytesIO((await resp2.arrayBuffer()).to_py())\\nX = pd.read_csv(text2)\""
            ],
            "application/vnd.google.colaboratory.intrinsic+json": {
              "type": "string"
            }
          },
          "metadata": {},
          "execution_count": 53
        }
      ],
      "execution_count": null
    },
    {
      "cell_type": "code",
      "source": [
        "import requests\n",
        "import io\n",
        "import pandas as pd\n",
        "\n",
        "def fetch_data(url):\n",
        "    \"\"\"Fetches data from a given URL and returns a pandas DataFrame.\"\"\"\n",
        "    response = requests.get(url)\n",
        "    if response.status_code == 200:\n",
        "        data = response.content\n",
        "        text = io.BytesIO(data)\n",
        "        df = pd.read_csv(text)\n",
        "        return df\n",
        "    else:\n",
        "        print(f\"Error: Failed to download data from {url}. Status code: {response.status_code}\")\n",
        "        return None\n",
        "\n",
        "URL1 = \"https://cf-courses-data.s3.us.cloud-object-storage.appdomain.cloud/IBM-DS0321EN-SkillsNetwork/datasets/dataset_part_2.csv\"\n",
        "URL2 = 'https://cf-courses-data.s3.us.cloud-object-storage.appdomain.cloud/IBM-DS0321EN-SkillsNetwork/datasets/dataset_part_3.csv'\n",
        "\n",
        "\n",
        "# Fetch the dataframes\n",
        "df = fetch_data(URL1)\n",
        "X = fetch_data(URL2) # Call fetch_data for URL2 as well\n",
        "\n",
        "# Check if the dataframes were successfully fetched\n",
        "if df is not None and X is not None:\n",
        "  # Now you can use the dataframes 'df' and 'X'\n",
        "  print(df.head())  # Print the first few rows of the 'df' dataframe\n",
        "  print(X.head())  # Print the first few rows of the 'X' dataframe\n",
        "else:\n",
        "  print(\"Error: Failed to fetch one or both dataframes.\")\n"
      ],
      "metadata": {
        "colab": {
          "base_uri": "https://localhost:8080/"
        },
        "id": "xF-9YvODRqDf",
        "outputId": "702b5074-8904-42d8-b6d7-25a78823df79"
      },
      "execution_count": null,
      "outputs": [
        {
          "output_type": "stream",
          "name": "stdout",
          "text": [
            "   FlightNumber        Date BoosterVersion  PayloadMass Orbit    LaunchSite  \\\n",
            "0             1  2010-06-04       Falcon 9  6104.959412   LEO  CCAFS SLC 40   \n",
            "1             2  2012-05-22       Falcon 9   525.000000   LEO  CCAFS SLC 40   \n",
            "2             3  2013-03-01       Falcon 9   677.000000   ISS  CCAFS SLC 40   \n",
            "3             4  2013-09-29       Falcon 9   500.000000    PO   VAFB SLC 4E   \n",
            "4             5  2013-12-03       Falcon 9  3170.000000   GTO  CCAFS SLC 40   \n",
            "\n",
            "       Outcome  Flights  GridFins  Reused   Legs LandingPad  Block  \\\n",
            "0    None None        1     False   False  False        NaN    1.0   \n",
            "1    None None        1     False   False  False        NaN    1.0   \n",
            "2    None None        1     False   False  False        NaN    1.0   \n",
            "3  False Ocean        1     False   False  False        NaN    1.0   \n",
            "4    None None        1     False   False  False        NaN    1.0   \n",
            "\n",
            "   ReusedCount Serial   Longitude   Latitude  Class  \n",
            "0            0  B0003  -80.577366  28.561857      0  \n",
            "1            0  B0005  -80.577366  28.561857      0  \n",
            "2            0  B0007  -80.577366  28.561857      0  \n",
            "3            0  B1003 -120.610829  34.632093      0  \n",
            "4            0  B1004  -80.577366  28.561857      0  \n",
            "   FlightNumber  PayloadMass  Flights  Block  ReusedCount  Orbit_ES-L1  \\\n",
            "0           1.0  6104.959412      1.0    1.0          0.0          0.0   \n",
            "1           2.0   525.000000      1.0    1.0          0.0          0.0   \n",
            "2           3.0   677.000000      1.0    1.0          0.0          0.0   \n",
            "3           4.0   500.000000      1.0    1.0          0.0          0.0   \n",
            "4           5.0  3170.000000      1.0    1.0          0.0          0.0   \n",
            "\n",
            "   Orbit_GEO  Orbit_GTO  Orbit_HEO  Orbit_ISS  ...  Serial_B1058  \\\n",
            "0        0.0        0.0        0.0        0.0  ...           0.0   \n",
            "1        0.0        0.0        0.0        0.0  ...           0.0   \n",
            "2        0.0        0.0        0.0        1.0  ...           0.0   \n",
            "3        0.0        0.0        0.0        0.0  ...           0.0   \n",
            "4        0.0        1.0        0.0        0.0  ...           0.0   \n",
            "\n",
            "   Serial_B1059  Serial_B1060  Serial_B1062  GridFins_False  GridFins_True  \\\n",
            "0           0.0           0.0           0.0             1.0            0.0   \n",
            "1           0.0           0.0           0.0             1.0            0.0   \n",
            "2           0.0           0.0           0.0             1.0            0.0   \n",
            "3           0.0           0.0           0.0             1.0            0.0   \n",
            "4           0.0           0.0           0.0             1.0            0.0   \n",
            "\n",
            "   Reused_False  Reused_True  Legs_False  Legs_True  \n",
            "0           1.0          0.0         1.0        0.0  \n",
            "1           1.0          0.0         1.0        0.0  \n",
            "2           1.0          0.0         1.0        0.0  \n",
            "3           1.0          0.0         1.0        0.0  \n",
            "4           1.0          0.0         1.0        0.0  \n",
            "\n",
            "[5 rows x 83 columns]\n"
          ]
        }
      ]
    },
    {
      "cell_type": "code",
      "source": [
        "#Further analysis to show yearly data\n",
        "df['Year'] = pd.to_datetime(df['Date']).dt.year\n",
        "#df.head(5)\n",
        "\n",
        "yearly_stats = df.groupby('Year').agg(\n",
        "    Num_Launches=('Year', 'count'),\n",
        "    Success_Rate=('Class', 'mean')\n",
        ")\n",
        "yearly_stats.head(4)\n"
      ],
      "metadata": {
        "colab": {
          "base_uri": "https://localhost:8080/",
          "height": 206
        },
        "id": "n0ydzuLK9bMG",
        "outputId": "69aa9b7a-af97-4325-c64c-592251cc89ab"
      },
      "execution_count": 100,
      "outputs": [
        {
          "output_type": "execute_result",
          "data": {
            "text/plain": [
              "      Num_Launches  Success_Rate\n",
              "Year                            \n",
              "2010             1      0.000000\n",
              "2012             1      0.000000\n",
              "2013             3      0.000000\n",
              "2014             6      0.333333"
            ],
            "text/html": [
              "\n",
              "  <div id=\"df-dcb1dd50-9186-4204-a658-f8c567aa6cde\" class=\"colab-df-container\">\n",
              "    <div>\n",
              "<style scoped>\n",
              "    .dataframe tbody tr th:only-of-type {\n",
              "        vertical-align: middle;\n",
              "    }\n",
              "\n",
              "    .dataframe tbody tr th {\n",
              "        vertical-align: top;\n",
              "    }\n",
              "\n",
              "    .dataframe thead th {\n",
              "        text-align: right;\n",
              "    }\n",
              "</style>\n",
              "<table border=\"1\" class=\"dataframe\">\n",
              "  <thead>\n",
              "    <tr style=\"text-align: right;\">\n",
              "      <th></th>\n",
              "      <th>Num_Launches</th>\n",
              "      <th>Success_Rate</th>\n",
              "    </tr>\n",
              "    <tr>\n",
              "      <th>Year</th>\n",
              "      <th></th>\n",
              "      <th></th>\n",
              "    </tr>\n",
              "  </thead>\n",
              "  <tbody>\n",
              "    <tr>\n",
              "      <th>2010</th>\n",
              "      <td>1</td>\n",
              "      <td>0.000000</td>\n",
              "    </tr>\n",
              "    <tr>\n",
              "      <th>2012</th>\n",
              "      <td>1</td>\n",
              "      <td>0.000000</td>\n",
              "    </tr>\n",
              "    <tr>\n",
              "      <th>2013</th>\n",
              "      <td>3</td>\n",
              "      <td>0.000000</td>\n",
              "    </tr>\n",
              "    <tr>\n",
              "      <th>2014</th>\n",
              "      <td>6</td>\n",
              "      <td>0.333333</td>\n",
              "    </tr>\n",
              "  </tbody>\n",
              "</table>\n",
              "</div>\n",
              "    <div class=\"colab-df-buttons\">\n",
              "\n",
              "  <div class=\"colab-df-container\">\n",
              "    <button class=\"colab-df-convert\" onclick=\"convertToInteractive('df-dcb1dd50-9186-4204-a658-f8c567aa6cde')\"\n",
              "            title=\"Convert this dataframe to an interactive table.\"\n",
              "            style=\"display:none;\">\n",
              "\n",
              "  <svg xmlns=\"http://www.w3.org/2000/svg\" height=\"24px\" viewBox=\"0 -960 960 960\">\n",
              "    <path d=\"M120-120v-720h720v720H120Zm60-500h600v-160H180v160Zm220 220h160v-160H400v160Zm0 220h160v-160H400v160ZM180-400h160v-160H180v160Zm440 0h160v-160H620v160ZM180-180h160v-160H180v160Zm440 0h160v-160H620v160Z\"/>\n",
              "  </svg>\n",
              "    </button>\n",
              "\n",
              "  <style>\n",
              "    .colab-df-container {\n",
              "      display:flex;\n",
              "      gap: 12px;\n",
              "    }\n",
              "\n",
              "    .colab-df-convert {\n",
              "      background-color: #E8F0FE;\n",
              "      border: none;\n",
              "      border-radius: 50%;\n",
              "      cursor: pointer;\n",
              "      display: none;\n",
              "      fill: #1967D2;\n",
              "      height: 32px;\n",
              "      padding: 0 0 0 0;\n",
              "      width: 32px;\n",
              "    }\n",
              "\n",
              "    .colab-df-convert:hover {\n",
              "      background-color: #E2EBFA;\n",
              "      box-shadow: 0px 1px 2px rgba(60, 64, 67, 0.3), 0px 1px 3px 1px rgba(60, 64, 67, 0.15);\n",
              "      fill: #174EA6;\n",
              "    }\n",
              "\n",
              "    .colab-df-buttons div {\n",
              "      margin-bottom: 4px;\n",
              "    }\n",
              "\n",
              "    [theme=dark] .colab-df-convert {\n",
              "      background-color: #3B4455;\n",
              "      fill: #D2E3FC;\n",
              "    }\n",
              "\n",
              "    [theme=dark] .colab-df-convert:hover {\n",
              "      background-color: #434B5C;\n",
              "      box-shadow: 0px 1px 3px 1px rgba(0, 0, 0, 0.15);\n",
              "      filter: drop-shadow(0px 1px 2px rgba(0, 0, 0, 0.3));\n",
              "      fill: #FFFFFF;\n",
              "    }\n",
              "  </style>\n",
              "\n",
              "    <script>\n",
              "      const buttonEl =\n",
              "        document.querySelector('#df-dcb1dd50-9186-4204-a658-f8c567aa6cde button.colab-df-convert');\n",
              "      buttonEl.style.display =\n",
              "        google.colab.kernel.accessAllowed ? 'block' : 'none';\n",
              "\n",
              "      async function convertToInteractive(key) {\n",
              "        const element = document.querySelector('#df-dcb1dd50-9186-4204-a658-f8c567aa6cde');\n",
              "        const dataTable =\n",
              "          await google.colab.kernel.invokeFunction('convertToInteractive',\n",
              "                                                    [key], {});\n",
              "        if (!dataTable) return;\n",
              "\n",
              "        const docLinkHtml = 'Like what you see? Visit the ' +\n",
              "          '<a target=\"_blank\" href=https://colab.research.google.com/notebooks/data_table.ipynb>data table notebook</a>'\n",
              "          + ' to learn more about interactive tables.';\n",
              "        element.innerHTML = '';\n",
              "        dataTable['output_type'] = 'display_data';\n",
              "        await google.colab.output.renderOutput(dataTable, element);\n",
              "        const docLink = document.createElement('div');\n",
              "        docLink.innerHTML = docLinkHtml;\n",
              "        element.appendChild(docLink);\n",
              "      }\n",
              "    </script>\n",
              "  </div>\n",
              "\n",
              "\n",
              "<div id=\"df-00d5dde6-6ff6-4475-93ed-d73948959fbe\">\n",
              "  <button class=\"colab-df-quickchart\" onclick=\"quickchart('df-00d5dde6-6ff6-4475-93ed-d73948959fbe')\"\n",
              "            title=\"Suggest charts\"\n",
              "            style=\"display:none;\">\n",
              "\n",
              "<svg xmlns=\"http://www.w3.org/2000/svg\" height=\"24px\"viewBox=\"0 0 24 24\"\n",
              "     width=\"24px\">\n",
              "    <g>\n",
              "        <path d=\"M19 3H5c-1.1 0-2 .9-2 2v14c0 1.1.9 2 2 2h14c1.1 0 2-.9 2-2V5c0-1.1-.9-2-2-2zM9 17H7v-7h2v7zm4 0h-2V7h2v10zm4 0h-2v-4h2v4z\"/>\n",
              "    </g>\n",
              "</svg>\n",
              "  </button>\n",
              "\n",
              "<style>\n",
              "  .colab-df-quickchart {\n",
              "      --bg-color: #E8F0FE;\n",
              "      --fill-color: #1967D2;\n",
              "      --hover-bg-color: #E2EBFA;\n",
              "      --hover-fill-color: #174EA6;\n",
              "      --disabled-fill-color: #AAA;\n",
              "      --disabled-bg-color: #DDD;\n",
              "  }\n",
              "\n",
              "  [theme=dark] .colab-df-quickchart {\n",
              "      --bg-color: #3B4455;\n",
              "      --fill-color: #D2E3FC;\n",
              "      --hover-bg-color: #434B5C;\n",
              "      --hover-fill-color: #FFFFFF;\n",
              "      --disabled-bg-color: #3B4455;\n",
              "      --disabled-fill-color: #666;\n",
              "  }\n",
              "\n",
              "  .colab-df-quickchart {\n",
              "    background-color: var(--bg-color);\n",
              "    border: none;\n",
              "    border-radius: 50%;\n",
              "    cursor: pointer;\n",
              "    display: none;\n",
              "    fill: var(--fill-color);\n",
              "    height: 32px;\n",
              "    padding: 0;\n",
              "    width: 32px;\n",
              "  }\n",
              "\n",
              "  .colab-df-quickchart:hover {\n",
              "    background-color: var(--hover-bg-color);\n",
              "    box-shadow: 0 1px 2px rgba(60, 64, 67, 0.3), 0 1px 3px 1px rgba(60, 64, 67, 0.15);\n",
              "    fill: var(--button-hover-fill-color);\n",
              "  }\n",
              "\n",
              "  .colab-df-quickchart-complete:disabled,\n",
              "  .colab-df-quickchart-complete:disabled:hover {\n",
              "    background-color: var(--disabled-bg-color);\n",
              "    fill: var(--disabled-fill-color);\n",
              "    box-shadow: none;\n",
              "  }\n",
              "\n",
              "  .colab-df-spinner {\n",
              "    border: 2px solid var(--fill-color);\n",
              "    border-color: transparent;\n",
              "    border-bottom-color: var(--fill-color);\n",
              "    animation:\n",
              "      spin 1s steps(1) infinite;\n",
              "  }\n",
              "\n",
              "  @keyframes spin {\n",
              "    0% {\n",
              "      border-color: transparent;\n",
              "      border-bottom-color: var(--fill-color);\n",
              "      border-left-color: var(--fill-color);\n",
              "    }\n",
              "    20% {\n",
              "      border-color: transparent;\n",
              "      border-left-color: var(--fill-color);\n",
              "      border-top-color: var(--fill-color);\n",
              "    }\n",
              "    30% {\n",
              "      border-color: transparent;\n",
              "      border-left-color: var(--fill-color);\n",
              "      border-top-color: var(--fill-color);\n",
              "      border-right-color: var(--fill-color);\n",
              "    }\n",
              "    40% {\n",
              "      border-color: transparent;\n",
              "      border-right-color: var(--fill-color);\n",
              "      border-top-color: var(--fill-color);\n",
              "    }\n",
              "    60% {\n",
              "      border-color: transparent;\n",
              "      border-right-color: var(--fill-color);\n",
              "    }\n",
              "    80% {\n",
              "      border-color: transparent;\n",
              "      border-right-color: var(--fill-color);\n",
              "      border-bottom-color: var(--fill-color);\n",
              "    }\n",
              "    90% {\n",
              "      border-color: transparent;\n",
              "      border-bottom-color: var(--fill-color);\n",
              "    }\n",
              "  }\n",
              "</style>\n",
              "\n",
              "  <script>\n",
              "    async function quickchart(key) {\n",
              "      const quickchartButtonEl =\n",
              "        document.querySelector('#' + key + ' button');\n",
              "      quickchartButtonEl.disabled = true;  // To prevent multiple clicks.\n",
              "      quickchartButtonEl.classList.add('colab-df-spinner');\n",
              "      try {\n",
              "        const charts = await google.colab.kernel.invokeFunction(\n",
              "            'suggestCharts', [key], {});\n",
              "      } catch (error) {\n",
              "        console.error('Error during call to suggestCharts:', error);\n",
              "      }\n",
              "      quickchartButtonEl.classList.remove('colab-df-spinner');\n",
              "      quickchartButtonEl.classList.add('colab-df-quickchart-complete');\n",
              "    }\n",
              "    (() => {\n",
              "      let quickchartButtonEl =\n",
              "        document.querySelector('#df-00d5dde6-6ff6-4475-93ed-d73948959fbe button');\n",
              "      quickchartButtonEl.style.display =\n",
              "        google.colab.kernel.accessAllowed ? 'block' : 'none';\n",
              "    })();\n",
              "  </script>\n",
              "</div>\n",
              "\n",
              "    </div>\n",
              "  </div>\n"
            ],
            "application/vnd.google.colaboratory.intrinsic+json": {
              "type": "dataframe",
              "variable_name": "yearly_stats",
              "summary": "{\n  \"name\": \"yearly_stats\",\n  \"rows\": 10,\n  \"fields\": [\n    {\n      \"column\": \"Year\",\n      \"properties\": {\n        \"dtype\": \"int32\",\n        \"num_unique_values\": 10,\n        \"samples\": [\n          2019,\n          2012,\n          2016\n        ],\n        \"semantic_type\": \"\",\n        \"description\": \"\"\n      }\n    },\n    {\n      \"column\": \"Num_Launches\",\n      \"properties\": {\n        \"dtype\": \"number\",\n        \"std\": 7,\n        \"min\": 1,\n        \"max\": 19,\n        \"num_unique_values\": 7,\n        \"samples\": [\n          1,\n          3,\n          10\n        ],\n        \"semantic_type\": \"\",\n        \"description\": \"\"\n      }\n    },\n    {\n      \"column\": \"Success_Rate\",\n      \"properties\": {\n        \"dtype\": \"number\",\n        \"std\": 0.36430261254305335,\n        \"min\": 0.0,\n        \"max\": 0.9,\n        \"num_unique_values\": 7,\n        \"samples\": [\n          0.0,\n          0.3333333333333333,\n          0.9\n        ],\n        \"semantic_type\": \"\",\n        \"description\": \"\"\n      }\n    }\n  ]\n}"
            }
          },
          "metadata": {},
          "execution_count": 100
        }
      ]
    },
    {
      "cell_type": "code",
      "source": [
        "# Create the plot\n",
        "fig, ax1 = plt.subplots()\n",
        "\n",
        "# Plot the number of launches\n",
        "ax1.plot(yearly_stats.index, yearly_stats['Num_Launches'], color='blue', marker='o', label='Number of Launches')\n",
        "ax1.set_xlabel('Year')\n",
        "ax1.set_ylabel('Number of Launches', color='blue')\n",
        "\n",
        "# Create a second y-axis for success rate\n",
        "ax2 = ax1.twinx()\n",
        "ax2.plot(yearly_stats.index, yearly_stats['Success_Rate'] * 100, color='red', marker='x', label='Success Rate (%)')\n",
        "ax2.set_ylabel('Success Rate (%)', color='red')\n",
        "\n",
        "# Set plot title and legend\n",
        "plt.title('Yearly Rocket Launches and Success Rate')\n",
        "plt.legend(loc='upper left')\n",
        "\n",
        "# Show the plot\n",
        "plt.show()"
      ],
      "metadata": {
        "colab": {
          "base_uri": "https://localhost:8080/",
          "height": 472
        },
        "id": "EBTHKTky9yGG",
        "outputId": "34d71335-31e8-491c-ced6-54fff96ee7c9"
      },
      "execution_count": 101,
      "outputs": [
        {
          "output_type": "display_data",
          "data": {
            "text/plain": [
              "<Figure size 640x480 with 2 Axes>"
            ],
            "image/png": "[encoded data removed]"
          },
          "metadata": {}
        }
      ]
    },
    {
      "cell_type": "code",
      "source": [
        "yearly_stats['Cumulative_Launches'] = yearly_stats['Num_Launches'].cumsum()\n",
        "\n",
        "# Create the plot\n",
        "fig, ax1 = plt.subplots()\n",
        "\n",
        "# Plot the cumulative number of launches\n",
        "ax1.plot(yearly_stats.index, yearly_stats['Cumulative_Launches'], color='blue', marker='o', label='Cumulative Launches')\n",
        "ax1.set_xlabel('Year')\n",
        "ax1.set_ylabel('Cumulative Launches', color='blue')\n",
        "\n",
        "# Create a second y-axis for success rate\n",
        "ax2 = ax1.twinx()\n",
        "ax2.plot(yearly_stats.index, yearly_stats['Success_Rate'] * 100, color='red', marker='x', label='Success Rate (%)')\n",
        "ax2.set_ylabel('Success Rate (%)', color='red')\n",
        "\n",
        "# Set plot title and legend\n",
        "plt.title('Yearly Rocket Launches and Success Rate')\n",
        "plt.legend(loc='upper left')\n",
        "\n",
        "# Show the plot\n",
        "plt.show()"
      ],
      "metadata": {
        "colab": {
          "base_uri": "https://localhost:8080/",
          "height": 472
        },
        "id": "mz3bKcrs_hR4",
        "outputId": "7efffe8b-3225-44c6-dbb2-9836fe512a59"
      },
      "execution_count": 102,
      "outputs": [
        {
          "output_type": "display_data",
          "data": {
            "text/plain": [
              "<Figure size 640x480 with 2 Axes>"
            ],
            "image/png": "[encoded data removed]"
          },
          "metadata": {}
        }
      ]
    },
    {
      "cell_type": "markdown",
      "source": [
        "## TASK  1\n"
      ],
      "metadata": {
        "id": "Whlkv0uhPcwu"
      }
    },
    {
      "cell_type": "markdown",
      "source": [
        "Create a NumPy array from the column <code>Class</code> in <code>data</code>, by applying the method <code>to_numpy()</code>  then\n",
        "assign it  to the variable <code>Y</code>,make sure the output is a  Pandas series (only one bracket df\\['name of  column']).\n"
      ],
      "metadata": {
        "id": "VLRUlG0BPcwv"
      }
    },
    {
      "cell_type": "code",
      "source": [
        "Y = df['Class'].to_numpy()  # Replace 'data' with 'df' to reference the correct DataFrame.\n",
        "Y"
      ],
      "metadata": {
        "trusted": true,
        "colab": {
          "base_uri": "https://localhost:8080/"
        },
        "id": "y-XAuhEbPcwv",
        "outputId": "f6c90941-06a0-4b32-f2d2-444ed1b15dfb"
      },
      "outputs": [
        {
          "output_type": "execute_result",
          "data": {
            "text/plain": [
              "array([0, 0, 0, 0, 0, 0, 1, 1, 0, 0, 0, 0, 1, 0, 0, 0, 1, 0, 0, 1, 1, 1,\n",
              "       1, 1, 0, 1, 1, 0, 1, 1, 0, 1, 1, 1, 0, 1, 1, 1, 1, 1, 1, 1, 1, 1,\n",
              "       1, 0, 0, 0, 1, 1, 0, 0, 1, 1, 1, 1, 1, 1, 1, 0, 0, 1, 1, 1, 1, 1,\n",
              "       1, 0, 1, 1, 1, 1, 0, 1, 0, 1, 0, 1, 1, 1, 1, 1, 1, 1, 1, 1, 1, 1,\n",
              "       1, 1])"
            ]
          },
          "metadata": {},
          "execution_count": 55
        }
      ],
      "execution_count": null
    },
    {
      "cell_type": "markdown",
      "source": [
        "## TASK  2\n"
      ],
      "metadata": {
        "id": "mtFLNdZXPcwv"
      }
    },
    {
      "cell_type": "markdown",
      "source": [
        "Standardize the data in <code>X</code> then reassign it to the variable  <code>X</code> using the transform provided below.\n"
      ],
      "metadata": {
        "id": "sQ-blPCePcww"
      }
    },
    {
      "cell_type": "code",
      "source": [
        "from sklearn.preprocessing import StandardScaler"
      ],
      "metadata": {
        "trusted": true,
        "id": "lTP-8sUbPcwy"
      },
      "outputs": [],
      "execution_count": null
    },
    {
      "cell_type": "code",
      "source": [
        "# Create a StandardScaler object\n",
        "transform = preprocessing.StandardScaler()\n",
        "X = transform.fit(X).transform(X)\n",
        "X"
      ],
      "metadata": {
        "trusted": true,
        "colab": {
          "base_uri": "https://localhost:8080/"
        },
        "id": "HjF9C59hPcwy",
        "outputId": "23f26962-6159-4b16-fac0-9116d9ff7bc2"
      },
      "outputs": [
        {
          "output_type": "execute_result",
          "data": {
            "text/plain": [
              "array([[-1.71291154e+00, -5.29526321e-17, -6.53912840e-01, ...,\n",
              "        -8.35531692e-01,  1.93309133e+00, -1.93309133e+00],\n",
              "       [-1.67441914e+00, -1.19523159e+00, -6.53912840e-01, ...,\n",
              "        -8.35531692e-01,  1.93309133e+00, -1.93309133e+00],\n",
              "       [-1.63592675e+00, -1.16267307e+00, -6.53912840e-01, ...,\n",
              "        -8.35531692e-01,  1.93309133e+00, -1.93309133e+00],\n",
              "       ...,\n",
              "       [ 1.63592675e+00,  1.99100483e+00,  3.49060516e+00, ...,\n",
              "         1.19684269e+00, -5.17306132e-01,  5.17306132e-01],\n",
              "       [ 1.67441914e+00,  1.99100483e+00,  1.00389436e+00, ...,\n",
              "         1.19684269e+00, -5.17306132e-01,  5.17306132e-01],\n",
              "       [ 1.71291154e+00, -5.19213966e-01, -6.53912840e-01, ...,\n",
              "        -8.35531692e-01, -5.17306132e-01,  5.17306132e-01]])"
            ]
          },
          "metadata": {},
          "execution_count": 83
        }
      ],
      "execution_count": null
    },
    {
      "cell_type": "markdown",
      "source": [
        "We split the data into training and testing data using the  function  <code>train_test_split</code>.   The training data is divided into validation data, a second set used for training  data; then the models are trained and hyperparameters are selected using the function <code>GridSearchCV</code>.\n"
      ],
      "metadata": {
        "id": "zZcF-0jlPcwz"
      }
    },
    {
      "cell_type": "markdown",
      "source": [
        "## TASK  3\n"
      ],
      "metadata": {
        "id": "UfIQFbWCPcwz"
      }
    },
    {
      "cell_type": "markdown",
      "source": [
        "Use the function train_test_split to split the data X and Y into training and test data. Set the parameter test_size to  0.2 and random_state to 2. The training data and test data should be assigned to the following labels.\n"
      ],
      "metadata": {
        "id": "RcvarDuWPcwz"
      }
    },
    {
      "cell_type": "markdown",
      "source": [
        "<code>X_train, X_test, Y_train, Y_test</code>\n"
      ],
      "metadata": {
        "id": "i5X4m7wkPcwz"
      }
    },
    {
      "cell_type": "code",
      "source": [
        "X_train, X_test, Y_train, Y_test =  train_test_split(X, Y, test_size=0.2, random_state=2)"
      ],
      "metadata": {
        "trusted": true,
        "id": "OVbAvvJBPcwz"
      },
      "outputs": [],
      "execution_count": null
    },
    {
      "cell_type": "markdown",
      "source": [
        "we can see we only have 18 test samples.\n"
      ],
      "metadata": {
        "id": "2kAyD6HDPcwz"
      }
    },
    {
      "cell_type": "code",
      "source": [
        "Y_test.shape"
      ],
      "metadata": {
        "trusted": true,
        "colab": {
          "base_uri": "https://localhost:8080/"
        },
        "id": "SwYyczrYPcwz",
        "outputId": "a89ec297-d084-4cc3-d6a8-2788469fae2e"
      },
      "outputs": [
        {
          "output_type": "execute_result",
          "data": {
            "text/plain": [
              "(18,)"
            ]
          },
          "metadata": {},
          "execution_count": 59
        }
      ],
      "execution_count": null
    },
    {
      "cell_type": "markdown",
      "source": [
        "## TASK  4\n"
      ],
      "metadata": {
        "id": "qx-Y5PYSPcw0"
      }
    },
    {
      "cell_type": "markdown",
      "source": [
        "Create a logistic regression object  then create a  GridSearchCV object  <code>logreg_cv</code> with cv = 10.  Fit the object to find the best parameters from the dictionary <code>parameters</code>.\n"
      ],
      "metadata": {
        "id": "7EhyfIA7Pcw0"
      }
    },
    {
      "cell_type": "code",
      "source": [
        "parameters ={'C':[0.001,0.01,0.1,1,10,100],\n",
        "             'penalty':['l2'],\n",
        "             'solver':['lbfgs']}\n",
        "\n",
        "#logistic regression\n",
        "lr=LogisticRegression()\n",
        "\n",
        "#Grid search\n",
        "Grid_Search = GridSearchCV(lr, parameters, cv = 10)\n",
        "logreg_cv = Grid_Search.fit(X_train, Y_train)"
      ],
      "metadata": {
        "trusted": true,
        "id": "zdE_P3WzPcw4"
      },
      "outputs": [],
      "execution_count": null
    },
    {
      "cell_type": "code",
      "source": [
        "lr=LogisticRegression()"
      ],
      "metadata": {
        "id": "uJ-aCuuOPcw4"
      },
      "outputs": [],
      "execution_count": null
    },
    {
      "cell_type": "code",
      "source": [
        "#Additional function to print all parameters\n",
        "# Print results for each parameter combination\n",
        "for i in range(len(Grid_Search.cv_results_['params'])):\n",
        "    params = Grid_Search.cv_results_['params'][i]\n",
        "    mean_score = Grid_Search.cv_results_['mean_test_score'][i]\n",
        "    scores = Grid_Search.cv_results_['std_test_score'][i]\n",
        "    print(f\"Parameters: {params}\")\n",
        "    print(f\"Mean Accuracy: {mean_score}\")\n",
        "    print(f\"Standard Deviation: {scores}\")\n",
        "    print(\"------------------------\")"
      ],
      "metadata": {
        "colab": {
          "base_uri": "https://localhost:8080/"
        },
        "id": "IV9cIOgPaoiN",
        "outputId": "43573cc6-51cc-4d5d-8651-abcd1f4df406"
      },
      "execution_count": null,
      "outputs": [
        {
          "output_type": "stream",
          "name": "stdout",
          "text": [
            "Parameters: {'C': 0.001, 'penalty': 'l2', 'solver': 'lbfgs'}\n",
            "Mean Accuracy: 0.6678571428571429\n",
            "Standard Deviation: 0.059333027592271985\n",
            "------------------------\n",
            "Parameters: {'C': 0.01, 'penalty': 'l2', 'solver': 'lbfgs'}\n",
            "Mean Accuracy: 0.8464285714285713\n",
            "Standard Deviation: 0.09589801130069679\n",
            "------------------------\n",
            "Parameters: {'C': 0.1, 'penalty': 'l2', 'solver': 'lbfgs'}\n",
            "Mean Accuracy: 0.8214285714285714\n",
            "Standard Deviation: 0.10133043542222218\n",
            "------------------------\n",
            "Parameters: {'C': 1, 'penalty': 'l2', 'solver': 'lbfgs'}\n",
            "Mean Accuracy: 0.7928571428571429\n",
            "Standard Deviation: 0.1072023644271688\n",
            "------------------------\n",
            "Parameters: {'C': 10, 'penalty': 'l2', 'solver': 'lbfgs'}\n",
            "Mean Accuracy: 0.7946428571428571\n",
            "Standard Deviation: 0.1038942014842061\n",
            "------------------------\n",
            "Parameters: {'C': 100, 'penalty': 'l2', 'solver': 'lbfgs'}\n",
            "Mean Accuracy: 0.7660714285714285\n",
            "Standard Deviation: 0.10241036399242617\n",
            "------------------------\n"
          ]
        }
      ]
    },
    {
      "cell_type": "code",
      "source": [
        "# Extract C values and corresponding mean accuracy scores\n",
        "C_values = [params['C'] for params in Grid_Search.cv_results_['params']]\n",
        "mean_accuracy_scores = Grid_Search.cv_results_['mean_test_score']\n",
        "\n",
        "# Create the plot\n",
        "plt.plot(C_values, mean_accuracy_scores, marker='o')  # Use marker='o' for data points\n",
        "plt.xscale('log')  # Use logarithmic scale for x-axis since C values are spaced exponentially\n",
        "plt.xlabel('C Parameter (log scale)')\n",
        "plt.ylabel('Mean Accuracy')\n",
        "plt.title('Accuracy vs. C Parameter for Logistic Regression')\n",
        "plt.grid(True)\n",
        "plt.show()"
      ],
      "metadata": {
        "colab": {
          "base_uri": "https://localhost:8080/",
          "height": 476
        },
        "id": "EYSBQtjmbde-",
        "outputId": "4c9f3cdf-da4d-4f47-8310-293c8d7d905d"
      },
      "execution_count": null,
      "outputs": [
        {
          "output_type": "display_data",
          "data": {
            "text/plain": [
              "<Figure size 640x480 with 1 Axes>"
            ],
            "image/png": "[encoded data removed]"
          },
          "metadata": {}
        }
      ]
    },
    {
      "cell_type": "markdown",
      "source": [
        "We output the <code>GridSearchCV</code> object for logistic regression. We display the best parameters using the data attribute <code>best_params\\_</code> and the accuracy on the validation data using the data attribute <code>best_score\\_</code>.\n"
      ],
      "metadata": {
        "id": "xd0Qosq0Pcw4"
      }
    },
    {
      "cell_type": "code",
      "source": [
        "print(\"tuned hpyerparameters :(best parameters) \",logreg_cv.best_params_)\n",
        "print(\"accuracy :\",logreg_cv.best_score_)"
      ],
      "metadata": {
        "trusted": true,
        "colab": {
          "base_uri": "https://localhost:8080/"
        },
        "id": "6bIMQLSfPcw4",
        "outputId": "e0237b0c-27c8-4a67-ba96-e84feb9fc52c"
      },
      "outputs": [
        {
          "output_type": "stream",
          "name": "stdout",
          "text": [
            "tuned hpyerparameters :(best parameters)  {'C': 0.01, 'penalty': 'l2', 'solver': 'lbfgs'}\n",
            "accuracy : 0.8464285714285713\n"
          ]
        }
      ],
      "execution_count": null
    },
    {
      "cell_type": "markdown",
      "source": [
        "## TASK  5\n"
      ],
      "metadata": {
        "id": "OcIyDX6CPcw5"
      }
    },
    {
      "cell_type": "markdown",
      "source": [
        "Calculate the accuracy on the test data using the method <code>score</code>:\n"
      ],
      "metadata": {
        "id": "-HmsqyfWPcw5"
      }
    },
    {
      "cell_type": "code",
      "source": [
        "logreg_accuracy=logreg_cv.score(X_test, Y_test)\n",
        "print(logreg_accuracy)"
      ],
      "metadata": {
        "trusted": true,
        "colab": {
          "base_uri": "https://localhost:8080/"
        },
        "id": "xJGx496_Pcw5",
        "outputId": "07f51bc1-a991-4e14-86d8-436455211a90"
      },
      "outputs": [
        {
          "output_type": "stream",
          "name": "stdout",
          "text": [
            "0.8333333333333334\n"
          ]
        }
      ],
      "execution_count": null
    },
    {
      "cell_type": "markdown",
      "source": [
        "Lets look at the confusion matrix:\n"
      ],
      "metadata": {
        "id": "ncTFC2UjPcw6"
      }
    },
    {
      "cell_type": "code",
      "source": [
        "yhat_logreg=logreg_cv.predict(X_test)\n",
        "plot_confusion_matrix(Y_test,yhat_logreg)"
      ],
      "metadata": {
        "trusted": true,
        "colab": {
          "base_uri": "https://localhost:8080/",
          "height": 472
        },
        "id": "kcTg_WUlPcw6",
        "outputId": "60515aba-210e-4697-e7e1-223a2804a37d"
      },
      "outputs": [
        {
          "output_type": "display_data",
          "data": {
            "text/plain": [
              "<Figure size 640x480 with 2 Axes>"
            ],
            "image/png": "[encoded data removed]"
          },
          "metadata": {}
        }
      ],
      "execution_count": null
    },
    {
      "cell_type": "markdown",
      "source": [
        "Examining the confusion matrix, we see that logistic regression can distinguish between the different classes.  We see that the problem is false positives.\n",
        "\n",
        "Overview:\n",
        "\n",
        "True Postive - 12 (True label is landed, Predicted label is also landed)\n",
        "\n",
        "False Postive - 3 (True label is not landed, Predicted label is landed)\n"
      ],
      "metadata": {
        "id": "-5CSsGKHPcw6"
      }
    },
    {
      "cell_type": "markdown",
      "source": [
        "## TASK  6\n"
      ],
      "metadata": {
        "id": "nGUJHLZvPcw6"
      }
    },
    {
      "cell_type": "markdown",
      "source": [
        "Create a support vector machine object then  create a  <code>GridSearchCV</code> object  <code>svm_cv</code> with cv = 10.  Fit the object to find the best parameters from the dictionary <code>parameters</code>.\n"
      ],
      "metadata": {
        "id": "p1isGceDPcw6"
      }
    },
    {
      "cell_type": "code",
      "source": [
        "parameters = {'kernel':('linear', 'rbf','poly', 'sigmoid'),\n",
        "              'C': np.logspace(-3, 3, 5),\n",
        "              'gamma':np.logspace(-3, 3, 5)}\n",
        "\n",
        "#create an instance of a SVM model\n",
        "svm = SVC()"
      ],
      "metadata": {
        "trusted": true,
        "id": "iI7J3AgaPcw6"
      },
      "outputs": [],
      "execution_count": 90
    },
    {
      "cell_type": "code",
      "source": [
        "GridSearch = GridSearchCV(svm, parameters, cv = 10)\n",
        "svm_cv = GridSearch.fit(X_train, Y_train)"
      ],
      "metadata": {
        "trusted": true,
        "id": "eKKYZ_ErPcw7"
      },
      "outputs": [],
      "execution_count": 91
    },
    {
      "cell_type": "code",
      "source": [
        "print(\"tuned hpyerparameters :(best parameters) \",svm_cv.best_params_)\n",
        "print(\"accuracy :\",svm_cv.best_score_)"
      ],
      "metadata": {
        "trusted": true,
        "colab": {
          "base_uri": "https://localhost:8080/"
        },
        "id": "L1ML9HklPcw7",
        "outputId": "821f932a-3839-4c62-f687-ce7187e51184"
      },
      "outputs": [
        {
          "output_type": "stream",
          "name": "stdout",
          "text": [
            "tuned hpyerparameters :(best parameters)  {'C': 1.0, 'gamma': 0.03162277660168379, 'kernel': 'sigmoid'}\n",
            "accuracy : 0.8482142857142856\n"
          ]
        }
      ],
      "execution_count": null
    },
    {
      "cell_type": "markdown",
      "source": [
        "## TASK  7\n"
      ],
      "metadata": {
        "id": "8aNi2rO4Pcw7"
      }
    },
    {
      "cell_type": "markdown",
      "source": [
        "Calculate the accuracy on the test data using the method <code>score</code>:\n"
      ],
      "metadata": {
        "id": "Go1wnzkDPcw7"
      }
    },
    {
      "cell_type": "code",
      "source": [
        "svm_accuracy = svm_cv.score(X_test, Y_test)\n",
        "print(svm_accuracy)"
      ],
      "metadata": {
        "trusted": true,
        "colab": {
          "base_uri": "https://localhost:8080/"
        },
        "id": "YW0RyuN-Pcw7",
        "outputId": "d20a7743-7696-4fcf-9be0-b9b872a29167"
      },
      "outputs": [
        {
          "output_type": "stream",
          "name": "stdout",
          "text": [
            "0.8333333333333334\n"
          ]
        }
      ],
      "execution_count": 92
    },
    {
      "cell_type": "markdown",
      "source": [
        "We can plot the confusion matrix\n"
      ],
      "metadata": {
        "id": "0ebPbS-9Pcw8"
      }
    },
    {
      "cell_type": "code",
      "source": [
        "yhat_svm = svm_cv.predict(X_test)\n",
        "plot_confusion_matrix(Y_test,yhat_svm)"
      ],
      "metadata": {
        "trusted": true,
        "colab": {
          "base_uri": "https://localhost:8080/",
          "height": 472
        },
        "id": "JUnGGh7pPcw8",
        "outputId": "ff1cfabc-9ac6-42e4-f1a2-a6da0d92f8fb"
      },
      "outputs": [
        {
          "output_type": "display_data",
          "data": {
            "text/plain": [
              "<Figure size 640x480 with 2 Axes>"
            ],
            "image/png": "[encoded data removed]"
          },
          "metadata": {}
        }
      ],
      "execution_count": null
    },
    {
      "cell_type": "markdown",
      "source": [
        "## TASK  8\n"
      ],
      "metadata": {
        "id": "hriPqAEAPcw8"
      }
    },
    {
      "cell_type": "markdown",
      "source": [
        "Create a decision tree classifier object then  create a  <code>GridSearchCV</code> object  <code>tree_cv</code> with cv = 10.  Fit the object to find the best parameters from the dictionary <code>parameters</code>.\n"
      ],
      "metadata": {
        "id": "w8KBPHs-Pcw8"
      }
    },
    {
      "cell_type": "code",
      "source": [
        "parameters_tree = {'criterion': ['gini', 'entropy'],\n",
        "     'splitter': ['best', 'random'],\n",
        "     'max_depth': [2*n for n in range(1,10)],\n",
        "     'max_features': ['log2', 'sqrt'],\n",
        "     'min_samples_leaf': [1, 2, 4],\n",
        "     'min_samples_split': [2, 5, 10]}\n",
        "\n",
        "tree = DecisionTreeClassifier()"
      ],
      "metadata": {
        "trusted": true,
        "id": "qTHVrPzKPcw9"
      },
      "outputs": [],
      "execution_count": 93
    },
    {
      "cell_type": "code",
      "source": [
        "Grid_Search = GridSearchCV(tree, parameters_tree, cv=10)\n",
        "tree_cv = Grid_Search.fit(X_train, Y_train)"
      ],
      "metadata": {
        "trusted": true,
        "id": "kiLj-Y3UPcw9"
      },
      "outputs": [],
      "execution_count": 94
    },
    {
      "cell_type": "code",
      "source": [
        "print(\"tuned hpyerparameters :(best parameters) \",tree_cv.best_params_)\n",
        "print(\"accuracy :\",tree_cv.best_score_)"
      ],
      "metadata": {
        "trusted": true,
        "colab": {
          "base_uri": "https://localhost:8080/"
        },
        "id": "NK2nB_YhPcw9",
        "outputId": "7a045ba8-a7db-4512-f795-468cf92cd2fe"
      },
      "outputs": [
        {
          "output_type": "stream",
          "name": "stdout",
          "text": [
            "tuned hpyerparameters :(best parameters)  {'criterion': 'entropy', 'max_depth': 10, 'max_features': 'sqrt', 'min_samples_leaf': 1, 'min_samples_split': 2, 'splitter': 'random'}\n",
            "accuracy : 0.9\n"
          ]
        }
      ],
      "execution_count": 95
    },
    {
      "cell_type": "markdown",
      "source": [
        "## TASK  9\n"
      ],
      "metadata": {
        "id": "kWBUbljdPcw9"
      }
    },
    {
      "cell_type": "markdown",
      "source": [
        "Calculate the accuracy of tree_cv on the test data using the method <code>score</code>:\n"
      ],
      "metadata": {
        "id": "X8FpZmYjPcw9"
      }
    },
    {
      "cell_type": "raw",
      "source": [],
      "metadata": {
        "id": "UhktqcuYPcw-"
      }
    },
    {
      "cell_type": "code",
      "source": [
        "tree_accuracy = tree_cv.score(X_test, Y_test)\n",
        "print(tree_accuracy)"
      ],
      "metadata": {
        "trusted": true,
        "colab": {
          "base_uri": "https://localhost:8080/"
        },
        "id": "aiowHPBpPcw-",
        "outputId": "90fcb911-8c66-41f8-fe55-e7d92daeb469"
      },
      "outputs": [
        {
          "output_type": "stream",
          "name": "stdout",
          "text": [
            "0.8333333333333334\n"
          ]
        }
      ],
      "execution_count": 96
    },
    {
      "cell_type": "markdown",
      "source": [
        "We can plot the confusion matrix\n"
      ],
      "metadata": {
        "id": "ptoCLW_0Pcw-"
      }
    },
    {
      "cell_type": "code",
      "source": [
        "yhat_tree = tree_cv.predict(X_test)\n",
        "plot_confusion_matrix(Y_test,yhat_tree)"
      ],
      "metadata": {
        "trusted": true,
        "colab": {
          "base_uri": "https://localhost:8080/",
          "height": 472
        },
        "id": "Xu9swupdPcw-",
        "outputId": "2520e360-9258-4379-c63d-b5a6b7c7122c"
      },
      "outputs": [
        {
          "output_type": "display_data",
          "data": {
            "text/plain": [
              "<Figure size 640x480 with 2 Axes>"
            ],
            "image/png": "[encoded data removed]"
          },
          "metadata": {}
        }
      ],
      "execution_count": null
    },
    {
      "cell_type": "markdown",
      "source": [
        "## TASK  10\n"
      ],
      "metadata": {
        "id": "LC8USE3EPcw-"
      }
    },
    {
      "cell_type": "markdown",
      "source": [
        "Create a k nearest neighbors object then  create a  <code>GridSearchCV</code> object  <code>knn_cv</code> with cv = 10.  Fit the object to find the best parameters from the dictionary <code>parameters</code>.\n"
      ],
      "metadata": {
        "id": "Ym7EDwk7Pcw_"
      }
    },
    {
      "cell_type": "code",
      "source": [
        "parameters2 = {'n_neighbors': [1, 2, 3, 4, 5, 6, 7, 8, 9, 10],\n",
        "              'algorithm': ['auto', 'ball_tree', 'kd_tree', 'brute'],\n",
        "              'p': [1,2]}\n",
        "\n",
        "KNN = KNeighborsClassifier()"
      ],
      "metadata": {
        "trusted": true,
        "id": "RvxCbJDYPcw_"
      },
      "outputs": [],
      "execution_count": null
    },
    {
      "cell_type": "code",
      "source": [
        "#GridSearch =  GridSearchCV(tree, parameters, cv = 10)\n",
        "GridSearch2 = GridSearchCV(KNN, parameters2, cv=10)\n",
        "knn_cv = GridSearch2.fit(X_train, Y_train)"
      ],
      "metadata": {
        "trusted": true,
        "id": "lqvAu7bzPcw_"
      },
      "outputs": [],
      "execution_count": 86
    },
    {
      "cell_type": "code",
      "source": [
        "print(\"tuned hpyerparameters :(best parameters) \",knn_cv.best_params_)\n",
        "print(\"accuracy :\",knn_cv.best_score_)"
      ],
      "metadata": {
        "trusted": true,
        "colab": {
          "base_uri": "https://localhost:8080/"
        },
        "id": "8uVJ_Y3MPcw_",
        "outputId": "87144ea5-a20c-48e5-e34d-fc4915c2f504"
      },
      "outputs": [
        {
          "output_type": "stream",
          "name": "stdout",
          "text": [
            "tuned hpyerparameters :(best parameters)  {'algorithm': 'auto', 'n_neighbors': 10, 'p': 1}\n",
            "accuracy : 0.8482142857142858\n"
          ]
        }
      ],
      "execution_count": 87
    },
    {
      "cell_type": "markdown",
      "source": [
        "## TASK  11\n"
      ],
      "metadata": {
        "id": "hF0ChxpsPcw_"
      }
    },
    {
      "cell_type": "markdown",
      "source": [
        "Calculate the accuracy of knn_cv on the test data using the method <code>score</code>:\n"
      ],
      "metadata": {
        "id": "jaJhW_ZwPcw_"
      }
    },
    {
      "cell_type": "code",
      "source": [
        "knn_accuracy = knn_cv.score(X_test, Y_test)\n",
        "print(knn_accuracy)"
      ],
      "metadata": {
        "trusted": true,
        "colab": {
          "base_uri": "https://localhost:8080/"
        },
        "id": "TqwWxT_3PcxD",
        "outputId": "269759c8-8b37-4d60-84ea-722815614a7f"
      },
      "outputs": [
        {
          "output_type": "stream",
          "name": "stdout",
          "text": [
            "0.8333333333333334\n"
          ]
        }
      ],
      "execution_count": 89
    },
    {
      "cell_type": "markdown",
      "source": [
        "We can plot the confusion matrix\n"
      ],
      "metadata": {
        "id": "J8Kz4ZuoPcxE"
      }
    },
    {
      "cell_type": "code",
      "source": [
        "yhat_knn = knn_cv.predict(X_test)\n",
        "plot_confusion_matrix(Y_test, yhat_knn)"
      ],
      "metadata": {
        "trusted": true,
        "colab": {
          "base_uri": "https://localhost:8080/",
          "height": 472
        },
        "id": "PxV7i12wPcxE",
        "outputId": "d91548b7-4df2-4f71-9f2f-c07d1189d660"
      },
      "outputs": [
        {
          "output_type": "display_data",
          "data": {
            "text/plain": [
              "<Figure size 640x480 with 2 Axes>"
            ],
            "image/png": "[encoded data removed]"
          },
          "metadata": {}
        }
      ],
      "execution_count": null
    },
    {
      "cell_type": "markdown",
      "source": [
        "## TASK  12\n"
      ],
      "metadata": {
        "id": "4OWHplexPcxE"
      }
    },
    {
      "cell_type": "markdown",
      "source": [
        "Find the method performs best:\n"
      ],
      "metadata": {
        "id": "1mRZoEIqPcxF"
      }
    },
    {
      "cell_type": "code",
      "source": [
        "#Use Jaccard score\n",
        "\n",
        "from sklearn.metrics import jaccard_score\n",
        "from sklearn.metrics import f1_score\n",
        "\n",
        "models_names = ['Logistic Regression', 'SVM', 'Decision Tree', 'KNN']\n",
        "models_outcomes = [yhat_logreg, yhat_svm, yhat_tree, yhat_knn]\n",
        "\n",
        "for index ,model in enumerate(models_outcomes):\n",
        "    JS = jaccard_score(Y_test, models_outcomes[index])\n",
        "    print(f\"JS='{JS}\")\n",
        "    F1 = f1_score(Y_test, models_outcomes[index], average='macro')\n",
        "    print(models_names[index] + \": \")\n",
        "    print(f\"Jaccard Score of = {JS}\")\n",
        "    print(f\"F1 Score = {F1}\")\n"
      ],
      "metadata": {
        "trusted": true,
        "colab": {
          "base_uri": "https://localhost:8080/"
        },
        "id": "aJ3W42zNPcxF",
        "outputId": "00751037-dadf-4cda-b393-ea7eb2d05b5e"
      },
      "outputs": [
        {
          "output_type": "stream",
          "name": "stdout",
          "text": [
            "JS='0.8\n",
            "Logistic Regression: \n",
            "Jaccard Score of = 0.8\n",
            "F1 Score = 0.7777777777777777\n",
            "JS='0.8\n",
            "SVM: \n",
            "Jaccard Score of = 0.8\n",
            "F1 Score = 0.7777777777777777\n",
            "JS='0.8\n",
            "Decision Tree: \n",
            "Jaccard Score of = 0.8\n",
            "F1 Score = 0.7777777777777777\n",
            "JS='0.8\n",
            "KNN: \n",
            "Jaccard Score of = 0.8\n",
            "F1 Score = 0.7777777777777777\n"
          ]
        }
      ],
      "execution_count": null
    },
    {
      "cell_type": "markdown",
      "source": [
        "## Authors\n"
      ],
      "metadata": {
        "id": "G-D5TSjRPcxF"
      }
    },
    {
      "cell_type": "markdown",
      "source": [
        "[Pratiksha Verma](https://www.linkedin.com/in/pratiksha-verma-6487561b1/)\n"
      ],
      "metadata": {
        "id": "tFAhWurxPcxF"
      }
    },
    {
      "cell_type": "markdown",
      "source": [
        "<!--## Change Log--!>\n"
      ],
      "metadata": {
        "id": "1GEO9RX0PcxF"
      }
    },
    {
      "cell_type": "markdown",
      "source": [
        "<!--| Date (YYYY-MM-DD) | Version | Changed By      | Change Description      |\n",
        "| ----------------- | ------- | -------------   | ----------------------- |\n",
        "| 2022-11-09        | 1.0     | Pratiksha Verma | Converted initial version to Jupyterlite|--!>\n"
      ],
      "metadata": {
        "id": "27mlvTvsPcxF"
      }
    },
    {
      "cell_type": "markdown",
      "source": [
        "### <h3 align=\"center\"> IBM Corporation 2022. All rights reserved. <h3/>\n"
      ],
      "metadata": {
        "id": "gegxlidyPcxG"
      }
    }
  ]
}